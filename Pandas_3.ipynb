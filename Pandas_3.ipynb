{
  "nbformat": 4,
  "nbformat_minor": 0,
  "metadata": {
    "colab": {
      "name": "Pandas_3.ipynb",
      "provenance": [],
      "toc_visible": true,
      "authorship_tag": "ABX9TyNwWOv2vrIh3lB/vfCF/IpS",
      "include_colab_link": true
    },
    "kernelspec": {
      "name": "python3",
      "display_name": "Python 3"
    }
  },
  "cells": [
    {
      "cell_type": "markdown",
      "metadata": {
        "id": "view-in-github",
        "colab_type": "text"
      },
      "source": [
        "<a href=\"https://colab.research.google.com/github/Adil-JK/Pandas/blob/main/Pandas_3.ipynb\" target=\"_parent\"><img src=\"https://colab.research.google.com/assets/colab-badge.svg\" alt=\"Open In Colab\"/></a>"
      ]
    },
    {
      "cell_type": "code",
      "metadata": {
        "id": "-F6ccOdZ49Bz"
      },
      "source": [
        "import pandas as pd"
      ],
      "execution_count": null,
      "outputs": []
    },
    {
      "cell_type": "code",
      "metadata": {
        "id": "pBqhQ1RM6a56"
      },
      "source": [
        "import numpy as np"
      ],
      "execution_count": null,
      "outputs": []
    },
    {
      "cell_type": "code",
      "metadata": {
        "colab": {
          "base_uri": "https://localhost:8080/"
        },
        "id": "QCCt7JDE6i4K",
        "outputId": "675cd6c7-79ca-4485-fa45-8970a49d04da"
      },
      "source": [
        "data = pd.read_csv(\"diabetes.csv\")\r\n",
        "data.columns=[\"Pregnancies\", \"Glucose\", \"BloodPressure\", \"SkinThickness(mm)\", \"Insulin(mu U/ml)\", \"BMI\", \"DiabetesPedigreeFunction\", \"Age(Years)\", \"Outcome\"]\r\n",
        "print(data)"
      ],
      "execution_count": null,
      "outputs": [
        {
          "output_type": "stream",
          "text": [
            "     Pregnancies  Glucose  ...  Age(Years)  Outcome\n",
            "0              1       85  ...          31        0\n",
            "1              8      183  ...          32        1\n",
            "2              1       89  ...          21        0\n",
            "3              0      137  ...          33        1\n",
            "4              5      116  ...          30        0\n",
            "..           ...      ...  ...         ...      ...\n",
            "762           10      101  ...          63        0\n",
            "763            2      122  ...          27        0\n",
            "764            5      121  ...          30       \\N\n",
            "765            1      126  ...          47       \\N\n",
            "766            1       93  ...          23       \\N\n",
            "\n",
            "[767 rows x 9 columns]\n"
          ],
          "name": "stdout"
        }
      ]
    },
    {
      "cell_type": "code",
      "metadata": {
        "colab": {
          "base_uri": "https://localhost:8080/"
        },
        "id": "XEHc3TJJ6zgJ",
        "outputId": "9bdc6db6-9f11-4d82-cd05-9a21ca1c852b"
      },
      "source": [
        "data.drop(columns=\"Pregnancies\", inplace=True)\r\n",
        "print(data)"
      ],
      "execution_count": null,
      "outputs": [
        {
          "output_type": "stream",
          "text": [
            "     Glucose  BloodPressure  ...  Age(Years)  Outcome\n",
            "0         85             66  ...          31        0\n",
            "1        183             64  ...          32        1\n",
            "2         89             66  ...          21        0\n",
            "3        137             40  ...          33        1\n",
            "4        116             74  ...          30        0\n",
            "..       ...            ...  ...         ...      ...\n",
            "762      101             76  ...          63        0\n",
            "763      122             70  ...          27        0\n",
            "764      121             72  ...          30       \\N\n",
            "765      126             60  ...          47       \\N\n",
            "766       93             70  ...          23       \\N\n",
            "\n",
            "[767 rows x 8 columns]\n"
          ],
          "name": "stdout"
        }
      ]
    },
    {
      "cell_type": "code",
      "metadata": {
        "colab": {
          "base_uri": "https://localhost:8080/"
        },
        "id": "6hCUlhmy7jLS",
        "outputId": "34094060-259d-412b-bb36-bf3ffa282527"
      },
      "source": [
        "print(data.loc[0:10, \"Age(Years)\"])"
      ],
      "execution_count": null,
      "outputs": [
        {
          "output_type": "stream",
          "text": [
            "0     31\n",
            "1     32\n",
            "2     21\n",
            "3     33\n",
            "4     30\n",
            "5     26\n",
            "6     29\n",
            "7     53\n",
            "8     54\n",
            "9     30\n",
            "10    34\n",
            "Name: Age(Years), dtype: int64\n"
          ],
          "name": "stdout"
        }
      ]
    },
    {
      "cell_type": "code",
      "metadata": {
        "id": "n1ppLPR48iRI"
      },
      "source": [
        ""
      ],
      "execution_count": null,
      "outputs": []
    },
    {
      "cell_type": "markdown",
      "metadata": {
        "id": "pBe0gFWRBX3N"
      },
      "source": [
        "# When do we need to clean our data?\r\n",
        "1. Abnormal values\r\n",
        "2. Null values\r\n",
        "3. Garbage values\r\n",
        "4. Repeating values\r\n",
        "5. Invalid format of data"
      ]
    },
    {
      "cell_type": "code",
      "metadata": {
        "id": "H9SctWvlU_q1",
        "colab": {
          "base_uri": "https://localhost:8080/"
        },
        "outputId": "d1332c89-1a94-470a-fbda-0dc78f0662d6"
      },
      "source": [
        "data.info()"
      ],
      "execution_count": null,
      "outputs": [
        {
          "output_type": "stream",
          "text": [
            "<class 'pandas.core.frame.DataFrame'>\n",
            "RangeIndex: 767 entries, 0 to 766\n",
            "Data columns (total 8 columns):\n",
            " #   Column                    Non-Null Count  Dtype  \n",
            "---  ------                    --------------  -----  \n",
            " 0   Glucose                   767 non-null    int64  \n",
            " 1   BloodPressure             767 non-null    int64  \n",
            " 2   SkinThickness(mm)         767 non-null    int64  \n",
            " 3   Insulin(mu U/ml)          767 non-null    int64  \n",
            " 4   BMI                       767 non-null    float64\n",
            " 5   DiabetesPedigreeFunction  767 non-null    float64\n",
            " 6   Age(Years)                767 non-null    int64  \n",
            " 7   Outcome                   767 non-null    object \n",
            "dtypes: float64(2), int64(5), object(1)\n",
            "memory usage: 48.1+ KB\n"
          ],
          "name": "stdout"
        }
      ]
    },
    {
      "cell_type": "code",
      "metadata": {
        "colab": {
          "base_uri": "https://localhost:8080/"
        },
        "id": "rurFP5iwVg_A",
        "outputId": "55ceb091-de7b-4dbb-ea52-1cedd3bcd7db"
      },
      "source": [
        "data.head()"
      ],
      "execution_count": null,
      "outputs": [
        {
          "output_type": "execute_result",
          "data": {
            "text/html": [
              "<div>\n",
              "<style scoped>\n",
              "    .dataframe tbody tr th:only-of-type {\n",
              "        vertical-align: middle;\n",
              "    }\n",
              "\n",
              "    .dataframe tbody tr th {\n",
              "        vertical-align: top;\n",
              "    }\n",
              "\n",
              "    .dataframe thead th {\n",
              "        text-align: right;\n",
              "    }\n",
              "</style>\n",
              "<table border=\"1\" class=\"dataframe\">\n",
              "  <thead>\n",
              "    <tr style=\"text-align: right;\">\n",
              "      <th></th>\n",
              "      <th>Glucose</th>\n",
              "      <th>BloodPressure</th>\n",
              "      <th>SkinThickness(mm)</th>\n",
              "      <th>Insulin(mu U/ml)</th>\n",
              "      <th>BMI</th>\n",
              "      <th>DiabetesPedigreeFunction</th>\n",
              "      <th>Age(Years)</th>\n",
              "      <th>Outcome</th>\n",
              "    </tr>\n",
              "  </thead>\n",
              "  <tbody>\n",
              "    <tr>\n",
              "      <th>0</th>\n",
              "      <td>85</td>\n",
              "      <td>66</td>\n",
              "      <td>29</td>\n",
              "      <td>0</td>\n",
              "      <td>26.6</td>\n",
              "      <td>0.351</td>\n",
              "      <td>31</td>\n",
              "      <td>0</td>\n",
              "    </tr>\n",
              "    <tr>\n",
              "      <th>1</th>\n",
              "      <td>183</td>\n",
              "      <td>64</td>\n",
              "      <td>0</td>\n",
              "      <td>0</td>\n",
              "      <td>23.3</td>\n",
              "      <td>0.672</td>\n",
              "      <td>32</td>\n",
              "      <td>1</td>\n",
              "    </tr>\n",
              "    <tr>\n",
              "      <th>2</th>\n",
              "      <td>89</td>\n",
              "      <td>66</td>\n",
              "      <td>23</td>\n",
              "      <td>94</td>\n",
              "      <td>28.1</td>\n",
              "      <td>0.167</td>\n",
              "      <td>21</td>\n",
              "      <td>0</td>\n",
              "    </tr>\n",
              "    <tr>\n",
              "      <th>3</th>\n",
              "      <td>137</td>\n",
              "      <td>40</td>\n",
              "      <td>35</td>\n",
              "      <td>168</td>\n",
              "      <td>43.1</td>\n",
              "      <td>2.288</td>\n",
              "      <td>33</td>\n",
              "      <td>1</td>\n",
              "    </tr>\n",
              "    <tr>\n",
              "      <th>4</th>\n",
              "      <td>116</td>\n",
              "      <td>74</td>\n",
              "      <td>0</td>\n",
              "      <td>0</td>\n",
              "      <td>25.6</td>\n",
              "      <td>0.201</td>\n",
              "      <td>30</td>\n",
              "      <td>0</td>\n",
              "    </tr>\n",
              "  </tbody>\n",
              "</table>\n",
              "</div>"
            ],
            "text/plain": [
              "   Glucose  BloodPressure  ...  Age(Years)  Outcome\n",
              "0       85             66  ...          31        0\n",
              "1      183             64  ...          32        1\n",
              "2       89             66  ...          21        0\n",
              "3      137             40  ...          33        1\n",
              "4      116             74  ...          30        0\n",
              "\n",
              "[5 rows x 8 columns]"
            ]
          },
          "metadata": {
            "tags": []
          },
          "execution_count": 21
        }
      ]
    },
    {
      "cell_type": "code",
      "metadata": {
        "colab": {
          "base_uri": "https://localhost:8080/"
        },
        "id": "DiQgdZulVL8d",
        "outputId": "12df7477-6f19-4a49-9ddc-43c131ae7b0c"
      },
      "source": [
        "x = data[\"Glucose\"].mode()\r\n",
        "x"
      ],
      "execution_count": null,
      "outputs": [
        {
          "output_type": "execute_result",
          "data": {
            "text/plain": [
              "0     99\n",
              "1    100\n",
              "dtype: int64"
            ]
          },
          "metadata": {
            "tags": []
          },
          "execution_count": 22
        }
      ]
    },
    {
      "cell_type": "code",
      "metadata": {
        "id": "UvoFpLyEWCaz",
        "colab": {
          "base_uri": "https://localhost:8080/"
        },
        "outputId": "0585eb88-d1b3-413c-ba5b-d3608b417828"
      },
      "source": [
        "data.info()"
      ],
      "execution_count": null,
      "outputs": [
        {
          "output_type": "stream",
          "text": [
            "<class 'pandas.core.frame.DataFrame'>\n",
            "RangeIndex: 767 entries, 0 to 766\n",
            "Data columns (total 8 columns):\n",
            " #   Column                    Non-Null Count  Dtype  \n",
            "---  ------                    --------------  -----  \n",
            " 0   Glucose                   767 non-null    int64  \n",
            " 1   BloodPressure             767 non-null    int64  \n",
            " 2   SkinThickness(mm)         767 non-null    int64  \n",
            " 3   Insulin(mu U/ml)          767 non-null    int64  \n",
            " 4   BMI                       767 non-null    float64\n",
            " 5   DiabetesPedigreeFunction  767 non-null    float64\n",
            " 6   Age(Years)                767 non-null    int64  \n",
            " 7   Outcome                   767 non-null    object \n",
            "dtypes: float64(2), int64(5), object(1)\n",
            "memory usage: 48.1+ KB\n"
          ],
          "name": "stdout"
        }
      ]
    },
    {
      "cell_type": "code",
      "metadata": {
        "colab": {
          "base_uri": "https://localhost:8080/"
        },
        "id": "GEOkFarqWQNV",
        "outputId": "8c643b4e-4dbf-4de4-9a06-5c95115ca6cf"
      },
      "source": [
        "data.head()"
      ],
      "execution_count": null,
      "outputs": [
        {
          "output_type": "execute_result",
          "data": {
            "text/html": [
              "<div>\n",
              "<style scoped>\n",
              "    .dataframe tbody tr th:only-of-type {\n",
              "        vertical-align: middle;\n",
              "    }\n",
              "\n",
              "    .dataframe tbody tr th {\n",
              "        vertical-align: top;\n",
              "    }\n",
              "\n",
              "    .dataframe thead th {\n",
              "        text-align: right;\n",
              "    }\n",
              "</style>\n",
              "<table border=\"1\" class=\"dataframe\">\n",
              "  <thead>\n",
              "    <tr style=\"text-align: right;\">\n",
              "      <th></th>\n",
              "      <th>Glucose</th>\n",
              "      <th>BloodPressure</th>\n",
              "      <th>SkinThickness(mm)</th>\n",
              "      <th>Insulin(mu U/ml)</th>\n",
              "      <th>BMI</th>\n",
              "      <th>DiabetesPedigreeFunction</th>\n",
              "      <th>Age(Years)</th>\n",
              "      <th>Outcome</th>\n",
              "    </tr>\n",
              "  </thead>\n",
              "  <tbody>\n",
              "    <tr>\n",
              "      <th>0</th>\n",
              "      <td>85</td>\n",
              "      <td>66</td>\n",
              "      <td>29</td>\n",
              "      <td>0</td>\n",
              "      <td>26.6</td>\n",
              "      <td>0.351</td>\n",
              "      <td>31</td>\n",
              "      <td>0</td>\n",
              "    </tr>\n",
              "    <tr>\n",
              "      <th>1</th>\n",
              "      <td>183</td>\n",
              "      <td>64</td>\n",
              "      <td>0</td>\n",
              "      <td>0</td>\n",
              "      <td>23.3</td>\n",
              "      <td>0.672</td>\n",
              "      <td>32</td>\n",
              "      <td>1</td>\n",
              "    </tr>\n",
              "    <tr>\n",
              "      <th>2</th>\n",
              "      <td>89</td>\n",
              "      <td>66</td>\n",
              "      <td>23</td>\n",
              "      <td>94</td>\n",
              "      <td>28.1</td>\n",
              "      <td>0.167</td>\n",
              "      <td>21</td>\n",
              "      <td>0</td>\n",
              "    </tr>\n",
              "    <tr>\n",
              "      <th>3</th>\n",
              "      <td>137</td>\n",
              "      <td>40</td>\n",
              "      <td>35</td>\n",
              "      <td>168</td>\n",
              "      <td>43.1</td>\n",
              "      <td>2.288</td>\n",
              "      <td>33</td>\n",
              "      <td>1</td>\n",
              "    </tr>\n",
              "    <tr>\n",
              "      <th>4</th>\n",
              "      <td>116</td>\n",
              "      <td>74</td>\n",
              "      <td>0</td>\n",
              "      <td>0</td>\n",
              "      <td>25.6</td>\n",
              "      <td>0.201</td>\n",
              "      <td>30</td>\n",
              "      <td>0</td>\n",
              "    </tr>\n",
              "  </tbody>\n",
              "</table>\n",
              "</div>"
            ],
            "text/plain": [
              "   Glucose  BloodPressure  ...  Age(Years)  Outcome\n",
              "0       85             66  ...          31        0\n",
              "1      183             64  ...          32        1\n",
              "2       89             66  ...          21        0\n",
              "3      137             40  ...          33        1\n",
              "4      116             74  ...          30        0\n",
              "\n",
              "[5 rows x 8 columns]"
            ]
          },
          "metadata": {
            "tags": []
          },
          "execution_count": 24
        }
      ]
    },
    {
      "cell_type": "code",
      "metadata": {
        "id": "ZVGcamgTXv6n"
      },
      "source": [
        "data.loc[0, \"Glucose\"]= 90"
      ],
      "execution_count": null,
      "outputs": []
    },
    {
      "cell_type": "code",
      "metadata": {
        "colab": {
          "base_uri": "https://localhost:8080/"
        },
        "id": "5Uwu8nYsX51W",
        "outputId": "5dafe59c-6514-492e-82f1-f8b780224a1f"
      },
      "source": [
        "print(data[\"Glucose\"])"
      ],
      "execution_count": null,
      "outputs": [
        {
          "output_type": "stream",
          "text": [
            "0       90\n",
            "1      183\n",
            "2       89\n",
            "3      137\n",
            "4      116\n",
            "      ... \n",
            "762    101\n",
            "763    122\n",
            "764    121\n",
            "765    126\n",
            "766     93\n",
            "Name: Glucose, Length: 767, dtype: int64\n"
          ],
          "name": "stdout"
        }
      ]
    },
    {
      "cell_type": "code",
      "metadata": {
        "colab": {
          "base_uri": "https://localhost:8080/"
        },
        "id": "vEs1XkYJYCl3",
        "outputId": "9ba04397-4a87-4f60-f570-cbeec74efd6a"
      },
      "source": [
        "data.head(5)"
      ],
      "execution_count": null,
      "outputs": [
        {
          "output_type": "execute_result",
          "data": {
            "text/html": [
              "<div>\n",
              "<style scoped>\n",
              "    .dataframe tbody tr th:only-of-type {\n",
              "        vertical-align: middle;\n",
              "    }\n",
              "\n",
              "    .dataframe tbody tr th {\n",
              "        vertical-align: top;\n",
              "    }\n",
              "\n",
              "    .dataframe thead th {\n",
              "        text-align: right;\n",
              "    }\n",
              "</style>\n",
              "<table border=\"1\" class=\"dataframe\">\n",
              "  <thead>\n",
              "    <tr style=\"text-align: right;\">\n",
              "      <th></th>\n",
              "      <th>Glucose</th>\n",
              "      <th>BloodPressure</th>\n",
              "      <th>SkinThickness(mm)</th>\n",
              "      <th>Insulin(mu U/ml)</th>\n",
              "      <th>BMI</th>\n",
              "      <th>DiabetesPedigreeFunction</th>\n",
              "      <th>Age(Years)</th>\n",
              "      <th>Outcome</th>\n",
              "    </tr>\n",
              "  </thead>\n",
              "  <tbody>\n",
              "    <tr>\n",
              "      <th>0</th>\n",
              "      <td>90</td>\n",
              "      <td>66</td>\n",
              "      <td>29</td>\n",
              "      <td>0</td>\n",
              "      <td>26.6</td>\n",
              "      <td>0.351</td>\n",
              "      <td>31</td>\n",
              "      <td>0</td>\n",
              "    </tr>\n",
              "    <tr>\n",
              "      <th>1</th>\n",
              "      <td>183</td>\n",
              "      <td>64</td>\n",
              "      <td>0</td>\n",
              "      <td>0</td>\n",
              "      <td>23.3</td>\n",
              "      <td>0.672</td>\n",
              "      <td>32</td>\n",
              "      <td>1</td>\n",
              "    </tr>\n",
              "    <tr>\n",
              "      <th>2</th>\n",
              "      <td>89</td>\n",
              "      <td>66</td>\n",
              "      <td>23</td>\n",
              "      <td>94</td>\n",
              "      <td>28.1</td>\n",
              "      <td>0.167</td>\n",
              "      <td>21</td>\n",
              "      <td>0</td>\n",
              "    </tr>\n",
              "    <tr>\n",
              "      <th>3</th>\n",
              "      <td>137</td>\n",
              "      <td>40</td>\n",
              "      <td>35</td>\n",
              "      <td>168</td>\n",
              "      <td>43.1</td>\n",
              "      <td>2.288</td>\n",
              "      <td>33</td>\n",
              "      <td>1</td>\n",
              "    </tr>\n",
              "    <tr>\n",
              "      <th>4</th>\n",
              "      <td>116</td>\n",
              "      <td>74</td>\n",
              "      <td>0</td>\n",
              "      <td>0</td>\n",
              "      <td>25.6</td>\n",
              "      <td>0.201</td>\n",
              "      <td>30</td>\n",
              "      <td>0</td>\n",
              "    </tr>\n",
              "  </tbody>\n",
              "</table>\n",
              "</div>"
            ],
            "text/plain": [
              "   Glucose  BloodPressure  ...  Age(Years)  Outcome\n",
              "0       90             66  ...          31        0\n",
              "1      183             64  ...          32        1\n",
              "2       89             66  ...          21        0\n",
              "3      137             40  ...          33        1\n",
              "4      116             74  ...          30        0\n",
              "\n",
              "[5 rows x 8 columns]"
            ]
          },
          "metadata": {
            "tags": []
          },
          "execution_count": 27
        }
      ]
    },
    {
      "cell_type": "code",
      "metadata": {
        "colab": {
          "base_uri": "https://localhost:8080/"
        },
        "id": "7w8w-oIDYL_v",
        "outputId": "cca000b9-8fc0-4d39-f49f-c09166992b5c"
      },
      "source": [
        "df = pd.read_csv(\"iris_data.csv\")\r\n",
        "print(df)"
      ],
      "execution_count": null,
      "outputs": [
        {
          "output_type": "stream",
          "text": [
            "     sepal_length  sepal_width  petal_length  petal_width    species\n",
            "0             5.1          3.5           1.4          0.2     setosa\n",
            "1             4.9          3.0           1.4          0.2     setosa\n",
            "2             4.7          3.2           1.3          0.2     setosa\n",
            "3             4.6          3.1           1.5          0.2     setosa\n",
            "4             5.0          3.6           1.4          0.2     setosa\n",
            "..            ...          ...           ...          ...        ...\n",
            "145           6.7          3.0           5.2          2.3  virginica\n",
            "146           6.3          2.5           5.0          1.9  virginica\n",
            "147           6.5          3.0           5.2          2.0  virginica\n",
            "148           6.2          3.4           5.4          2.3  virginica\n",
            "149           5.9          3.0           5.1          1.8  virginica\n",
            "\n",
            "[150 rows x 5 columns]\n"
          ],
          "name": "stdout"
        }
      ]
    },
    {
      "cell_type": "code",
      "metadata": {
        "colab": {
          "base_uri": "https://localhost:8080/"
        },
        "id": "xM4lx5ZyZAnY",
        "outputId": "ea8bd409-f262-470e-eafb-696cccc94bf2"
      },
      "source": [
        "for i in df.index:\r\n",
        "  if df.loc[i, \"sepal_length\"]>=4.5:\r\n",
        "    df.loc[i, \"sepal_length\"]=5.0\r\n",
        "df.head()"
      ],
      "execution_count": null,
      "outputs": [
        {
          "output_type": "execute_result",
          "data": {
            "text/html": [
              "<div>\n",
              "<style scoped>\n",
              "    .dataframe tbody tr th:only-of-type {\n",
              "        vertical-align: middle;\n",
              "    }\n",
              "\n",
              "    .dataframe tbody tr th {\n",
              "        vertical-align: top;\n",
              "    }\n",
              "\n",
              "    .dataframe thead th {\n",
              "        text-align: right;\n",
              "    }\n",
              "</style>\n",
              "<table border=\"1\" class=\"dataframe\">\n",
              "  <thead>\n",
              "    <tr style=\"text-align: right;\">\n",
              "      <th></th>\n",
              "      <th>sepal_length</th>\n",
              "      <th>sepal_width</th>\n",
              "      <th>petal_length</th>\n",
              "      <th>petal_width</th>\n",
              "      <th>species</th>\n",
              "    </tr>\n",
              "  </thead>\n",
              "  <tbody>\n",
              "    <tr>\n",
              "      <th>0</th>\n",
              "      <td>5.0</td>\n",
              "      <td>3.5</td>\n",
              "      <td>1.4</td>\n",
              "      <td>0.2</td>\n",
              "      <td>setosa</td>\n",
              "    </tr>\n",
              "    <tr>\n",
              "      <th>1</th>\n",
              "      <td>5.0</td>\n",
              "      <td>3.0</td>\n",
              "      <td>1.4</td>\n",
              "      <td>0.2</td>\n",
              "      <td>setosa</td>\n",
              "    </tr>\n",
              "    <tr>\n",
              "      <th>2</th>\n",
              "      <td>5.0</td>\n",
              "      <td>3.2</td>\n",
              "      <td>1.3</td>\n",
              "      <td>0.2</td>\n",
              "      <td>setosa</td>\n",
              "    </tr>\n",
              "    <tr>\n",
              "      <th>3</th>\n",
              "      <td>5.0</td>\n",
              "      <td>3.1</td>\n",
              "      <td>1.5</td>\n",
              "      <td>0.2</td>\n",
              "      <td>setosa</td>\n",
              "    </tr>\n",
              "    <tr>\n",
              "      <th>4</th>\n",
              "      <td>5.0</td>\n",
              "      <td>3.6</td>\n",
              "      <td>1.4</td>\n",
              "      <td>0.2</td>\n",
              "      <td>setosa</td>\n",
              "    </tr>\n",
              "  </tbody>\n",
              "</table>\n",
              "</div>"
            ],
            "text/plain": [
              "   sepal_length  sepal_width  petal_length  petal_width species\n",
              "0           5.0          3.5           1.4          0.2  setosa\n",
              "1           5.0          3.0           1.4          0.2  setosa\n",
              "2           5.0          3.2           1.3          0.2  setosa\n",
              "3           5.0          3.1           1.5          0.2  setosa\n",
              "4           5.0          3.6           1.4          0.2  setosa"
            ]
          },
          "metadata": {
            "tags": []
          },
          "execution_count": 29
        }
      ]
    },
    {
      "cell_type": "code",
      "metadata": {
        "colab": {
          "base_uri": "https://localhost:8080/"
        },
        "id": "03LQm6xdcWWE",
        "outputId": "7e761092-5a97-4d05-da25-2d9118b0c47b"
      },
      "source": [
        "df.loc[0,\"sepal_length\"]= np.NaN\r\n",
        "df.head()"
      ],
      "execution_count": null,
      "outputs": [
        {
          "output_type": "execute_result",
          "data": {
            "text/html": [
              "<div>\n",
              "<style scoped>\n",
              "    .dataframe tbody tr th:only-of-type {\n",
              "        vertical-align: middle;\n",
              "    }\n",
              "\n",
              "    .dataframe tbody tr th {\n",
              "        vertical-align: top;\n",
              "    }\n",
              "\n",
              "    .dataframe thead th {\n",
              "        text-align: right;\n",
              "    }\n",
              "</style>\n",
              "<table border=\"1\" class=\"dataframe\">\n",
              "  <thead>\n",
              "    <tr style=\"text-align: right;\">\n",
              "      <th></th>\n",
              "      <th>sepal_length</th>\n",
              "      <th>sepal_width</th>\n",
              "      <th>petal_length</th>\n",
              "      <th>petal_width</th>\n",
              "      <th>species</th>\n",
              "    </tr>\n",
              "  </thead>\n",
              "  <tbody>\n",
              "    <tr>\n",
              "      <th>0</th>\n",
              "      <td>NaN</td>\n",
              "      <td>3.5</td>\n",
              "      <td>1.4</td>\n",
              "      <td>0.2</td>\n",
              "      <td>setosa</td>\n",
              "    </tr>\n",
              "    <tr>\n",
              "      <th>1</th>\n",
              "      <td>5.0</td>\n",
              "      <td>3.0</td>\n",
              "      <td>1.4</td>\n",
              "      <td>0.2</td>\n",
              "      <td>setosa</td>\n",
              "    </tr>\n",
              "    <tr>\n",
              "      <th>2</th>\n",
              "      <td>5.0</td>\n",
              "      <td>3.2</td>\n",
              "      <td>1.3</td>\n",
              "      <td>0.2</td>\n",
              "      <td>setosa</td>\n",
              "    </tr>\n",
              "    <tr>\n",
              "      <th>3</th>\n",
              "      <td>5.0</td>\n",
              "      <td>3.1</td>\n",
              "      <td>1.5</td>\n",
              "      <td>0.2</td>\n",
              "      <td>setosa</td>\n",
              "    </tr>\n",
              "    <tr>\n",
              "      <th>4</th>\n",
              "      <td>5.0</td>\n",
              "      <td>3.6</td>\n",
              "      <td>1.4</td>\n",
              "      <td>0.2</td>\n",
              "      <td>setosa</td>\n",
              "    </tr>\n",
              "  </tbody>\n",
              "</table>\n",
              "</div>"
            ],
            "text/plain": [
              "   sepal_length  sepal_width  petal_length  petal_width species\n",
              "0           NaN          3.5           1.4          0.2  setosa\n",
              "1           5.0          3.0           1.4          0.2  setosa\n",
              "2           5.0          3.2           1.3          0.2  setosa\n",
              "3           5.0          3.1           1.5          0.2  setosa\n",
              "4           5.0          3.6           1.4          0.2  setosa"
            ]
          },
          "metadata": {
            "tags": []
          },
          "execution_count": 30
        }
      ]
    },
    {
      "cell_type": "code",
      "metadata": {
        "colab": {
          "base_uri": "https://localhost:8080/"
        },
        "id": "o1Y76R5Wc5KI",
        "outputId": "8fbfe56e-a35b-4372-f453-72a6b21ca793"
      },
      "source": [
        "df.info()"
      ],
      "execution_count": null,
      "outputs": [
        {
          "output_type": "stream",
          "text": [
            "<class 'pandas.core.frame.DataFrame'>\n",
            "RangeIndex: 150 entries, 0 to 149\n",
            "Data columns (total 5 columns):\n",
            " #   Column        Non-Null Count  Dtype  \n",
            "---  ------        --------------  -----  \n",
            " 0   sepal_length  149 non-null    float64\n",
            " 1   sepal_width   150 non-null    float64\n",
            " 2   petal_length  150 non-null    float64\n",
            " 3   petal_width   147 non-null    float64\n",
            " 4   species       150 non-null    object \n",
            "dtypes: float64(4), object(1)\n",
            "memory usage: 6.0+ KB\n"
          ],
          "name": "stdout"
        }
      ]
    },
    {
      "cell_type": "code",
      "metadata": {
        "colab": {
          "base_uri": "https://localhost:8080/"
        },
        "id": "4l4g7OcOdjyA",
        "outputId": "39101176-223b-4b44-e352-de1057512865"
      },
      "source": [
        "df.head()"
      ],
      "execution_count": null,
      "outputs": [
        {
          "output_type": "execute_result",
          "data": {
            "text/html": [
              "<div>\n",
              "<style scoped>\n",
              "    .dataframe tbody tr th:only-of-type {\n",
              "        vertical-align: middle;\n",
              "    }\n",
              "\n",
              "    .dataframe tbody tr th {\n",
              "        vertical-align: top;\n",
              "    }\n",
              "\n",
              "    .dataframe thead th {\n",
              "        text-align: right;\n",
              "    }\n",
              "</style>\n",
              "<table border=\"1\" class=\"dataframe\">\n",
              "  <thead>\n",
              "    <tr style=\"text-align: right;\">\n",
              "      <th></th>\n",
              "      <th>sepal_length</th>\n",
              "      <th>sepal_width</th>\n",
              "      <th>petal_length</th>\n",
              "      <th>petal_width</th>\n",
              "      <th>species</th>\n",
              "    </tr>\n",
              "  </thead>\n",
              "  <tbody>\n",
              "    <tr>\n",
              "      <th>0</th>\n",
              "      <td>NaN</td>\n",
              "      <td>3.5</td>\n",
              "      <td>1.4</td>\n",
              "      <td>0.2</td>\n",
              "      <td>setosa</td>\n",
              "    </tr>\n",
              "    <tr>\n",
              "      <th>1</th>\n",
              "      <td>5.0</td>\n",
              "      <td>3.0</td>\n",
              "      <td>1.4</td>\n",
              "      <td>0.2</td>\n",
              "      <td>setosa</td>\n",
              "    </tr>\n",
              "    <tr>\n",
              "      <th>2</th>\n",
              "      <td>5.0</td>\n",
              "      <td>3.2</td>\n",
              "      <td>1.3</td>\n",
              "      <td>0.2</td>\n",
              "      <td>setosa</td>\n",
              "    </tr>\n",
              "    <tr>\n",
              "      <th>3</th>\n",
              "      <td>5.0</td>\n",
              "      <td>3.1</td>\n",
              "      <td>1.5</td>\n",
              "      <td>0.2</td>\n",
              "      <td>setosa</td>\n",
              "    </tr>\n",
              "    <tr>\n",
              "      <th>4</th>\n",
              "      <td>5.0</td>\n",
              "      <td>3.6</td>\n",
              "      <td>1.4</td>\n",
              "      <td>0.2</td>\n",
              "      <td>setosa</td>\n",
              "    </tr>\n",
              "  </tbody>\n",
              "</table>\n",
              "</div>"
            ],
            "text/plain": [
              "   sepal_length  sepal_width  petal_length  petal_width species\n",
              "0           NaN          3.5           1.4          0.2  setosa\n",
              "1           5.0          3.0           1.4          0.2  setosa\n",
              "2           5.0          3.2           1.3          0.2  setosa\n",
              "3           5.0          3.1           1.5          0.2  setosa\n",
              "4           5.0          3.6           1.4          0.2  setosa"
            ]
          },
          "metadata": {
            "tags": []
          },
          "execution_count": 32
        }
      ]
    },
    {
      "cell_type": "code",
      "metadata": {
        "colab": {
          "base_uri": "https://localhost:8080/"
        },
        "id": "91qijmspeSIM",
        "outputId": "28e2abae-2029-4736-8986-6cd2799e4102"
      },
      "source": [
        "df['petal_length'] = np.where(df['petal_length'].between(1.0,3.0),5.0,df['petal_length'])\r\n",
        "print(df.to_string())"
      ],
      "execution_count": null,
      "outputs": [
        {
          "output_type": "stream",
          "text": [
            "     sepal_length  sepal_width  petal_length  petal_width     species\n",
            "0             NaN          3.5           5.0          0.2      setosa\n",
            "1             5.0          3.0           5.0          0.2      setosa\n",
            "2             5.0          3.2           5.0          0.2      setosa\n",
            "3             5.0          3.1           5.0          0.2      setosa\n",
            "4             5.0          3.6           5.0          0.2      setosa\n",
            "5             5.0          3.9           5.0          0.4      setosa\n",
            "6             5.0          3.4           5.0          0.3      setosa\n",
            "7             5.0          3.4           5.0          0.2      setosa\n",
            "8             4.4          2.9           5.0          0.2      setosa\n",
            "9             5.0          3.1           5.0          0.1      setosa\n",
            "10            5.0          3.7           5.0          0.2      setosa\n",
            "11            5.0          3.4           5.0          0.2      setosa\n",
            "12            5.0          3.0           5.0          0.1      setosa\n",
            "13            4.3          3.0           5.0          0.1      setosa\n",
            "14            5.0          4.0           5.0          0.2      setosa\n",
            "15            5.0          4.4           5.0          0.4      setosa\n",
            "16            5.0          3.9           5.0          0.4      setosa\n",
            "17            5.0          3.5           5.0          0.3      setosa\n",
            "18            5.0          3.8           5.0          0.3      setosa\n",
            "19            5.0          3.8           5.0          NaN      setosa\n",
            "20            5.0          3.4           5.0          0.2      setosa\n",
            "21            5.0          3.7           5.0          0.4      setosa\n",
            "22            5.0          3.6           5.0          0.2      setosa\n",
            "23            5.0          3.3           5.0          NaN      setosa\n",
            "24            5.0          3.4           5.0          0.2      setosa\n",
            "25            5.0          3.0           5.0          0.2      setosa\n",
            "26            5.0          3.4           5.0          NaN      setosa\n",
            "27            5.0          3.5           5.0          0.2      setosa\n",
            "28            5.0          3.4           5.0          0.2      setosa\n",
            "29            5.0          3.2           5.0          0.2      setosa\n",
            "30            5.0          3.1           5.0          0.2      setosa\n",
            "31            5.0          3.4           5.0          0.4      setosa\n",
            "32            5.0          4.1           5.0          0.1      setosa\n",
            "33            5.0          4.2           5.0          0.2      setosa\n",
            "34            5.0          3.1           5.0          0.1      setosa\n",
            "35            5.0          3.2           5.0          0.2      setosa\n",
            "36            5.0          3.5           5.0          0.2      setosa\n",
            "37            5.0          3.1           5.0          0.1      setosa\n",
            "38            4.4          3.0           5.0          0.2      setosa\n",
            "39            5.0          3.4           5.0          0.2      setosa\n",
            "40            5.0          3.5           5.0          0.3      setosa\n",
            "41            5.0          2.3           5.0          0.3      setosa\n",
            "42            4.4          3.2           5.0          0.2      setosa\n",
            "43            5.0          3.5           5.0          0.6      setosa\n",
            "44            5.0          3.8           5.0          0.4      setosa\n",
            "45            5.0          3.0           5.0          0.3      setosa\n",
            "46            5.0          3.8           5.0          0.2      setosa\n",
            "47            5.0          3.2           5.0          0.2      setosa\n",
            "48            5.0          3.7           5.0          0.2      setosa\n",
            "49            5.0          3.3           5.0          0.2      setosa\n",
            "50            5.0          3.2           4.7          1.4  versicolor\n",
            "51            5.0          3.2           4.5          1.5  versicolor\n",
            "52            5.0          3.1           4.9          1.5  versicolor\n",
            "53            5.0          2.3           4.0          1.3  versicolor\n",
            "54            5.0          2.8           4.6          1.5  versicolor\n",
            "55            5.0          2.8           4.5          1.3  versicolor\n",
            "56            5.0          3.3           4.7          1.6  versicolor\n",
            "57            5.0          2.4           3.3          1.0  versicolor\n",
            "58            5.0          2.9           4.6          1.3  versicolor\n",
            "59            5.0          2.7           3.9          1.4  versicolor\n",
            "60            5.0          2.0           3.5          1.0  versicolor\n",
            "61            5.0          3.0           4.2          1.5  versicolor\n",
            "62            5.0          2.2           4.0          1.0  versicolor\n",
            "63            5.0          2.9           4.7          1.4  versicolor\n",
            "64            5.0          2.9           3.6          1.3  versicolor\n",
            "65            5.0          3.1           4.4          1.4  versicolor\n",
            "66            5.0          3.0           4.5          1.5  versicolor\n",
            "67            5.0          2.7           4.1          1.0  versicolor\n",
            "68            5.0          2.2           4.5          1.5  versicolor\n",
            "69            5.0          2.5           3.9          1.1  versicolor\n",
            "70            5.0          3.2           4.8          1.8  versicolor\n",
            "71            5.0          2.8           4.0          1.3  versicolor\n",
            "72            5.0          2.5           4.9          1.5  versicolor\n",
            "73            5.0          2.8           4.7          1.2  versicolor\n",
            "74            5.0          2.9           4.3          1.3  versicolor\n",
            "75            5.0          3.0           4.4          1.4  versicolor\n",
            "76            5.0          2.8           4.8          1.4  versicolor\n",
            "77            5.0          3.0           5.0          1.7  versicolor\n",
            "78            5.0          2.9           4.5          1.5  versicolor\n",
            "79            5.0          2.6           3.5          1.0  versicolor\n",
            "80            5.0          2.4           3.8          1.1  versicolor\n",
            "81            5.0          2.4           3.7          1.0  versicolor\n",
            "82            5.0          2.7           3.9          1.2  versicolor\n",
            "83            5.0          2.7           5.1          1.6  versicolor\n",
            "84            5.0          3.0           4.5          1.5  versicolor\n",
            "85            5.0          3.4           4.5          1.6  versicolor\n",
            "86            5.0          3.1           4.7          1.5  versicolor\n",
            "87            5.0          2.3           4.4          1.3  versicolor\n",
            "88            5.0          3.0           4.1          1.3  versicolor\n",
            "89            5.0          2.5           4.0          1.3  versicolor\n",
            "90            5.0          2.6           4.4          1.2  versicolor\n",
            "91            5.0          3.0           4.6          1.4  versicolor\n",
            "92            5.0          2.6           4.0          1.2  versicolor\n",
            "93            5.0          2.3           3.3          1.0  versicolor\n",
            "94            5.0          2.7           4.2          1.3  versicolor\n",
            "95            5.0          3.0           4.2          1.2  versicolor\n",
            "96            5.0          2.9           4.2          1.3  versicolor\n",
            "97            5.0          2.9           4.3          1.3  versicolor\n",
            "98            5.0          2.5           5.0          1.1  versicolor\n",
            "99            5.0          2.8           4.1          1.3  versicolor\n",
            "100           5.0          3.3           6.0          2.5   virginica\n",
            "101           5.0          2.7           5.1          1.9   virginica\n",
            "102           5.0          3.0           5.9          2.1   virginica\n",
            "103           5.0          2.9           5.6          1.8   virginica\n",
            "104           5.0          3.0           5.8          2.2   virginica\n",
            "105           5.0          3.0           6.6          2.1   virginica\n",
            "106           5.0          2.5           4.5          1.7   virginica\n",
            "107           5.0          2.9           6.3          1.8   virginica\n",
            "108           5.0          2.5           5.8          1.8   virginica\n",
            "109           5.0          3.6           6.1          2.5   virginica\n",
            "110           5.0          3.2           5.1          2.0   virginica\n",
            "111           5.0          2.7           5.3          1.9   virginica\n",
            "112           5.0          3.0           5.5          2.1   virginica\n",
            "113           5.0          2.5           5.0          2.0   virginica\n",
            "114           5.0          2.8           5.1          2.4   virginica\n",
            "115           5.0          3.2           5.3          2.3   virginica\n",
            "116           5.0          3.0           5.5          1.8   virginica\n",
            "117           5.0          3.8           6.7          2.2   virginica\n",
            "118           5.0          2.6           6.9          2.3   virginica\n",
            "119           5.0          2.2           5.0          1.5   virginica\n",
            "120           5.0          3.2           5.7          2.3   virginica\n",
            "121           5.0          2.8           4.9          2.0   virginica\n",
            "122           5.0          2.8           6.7          2.0   virginica\n",
            "123           5.0          2.7           4.9          1.8   virginica\n",
            "124           5.0          3.3           5.7          2.1   virginica\n",
            "125           5.0          3.2           6.0          1.8   virginica\n",
            "126           5.0          2.8           4.8          1.8   virginica\n",
            "127           5.0          3.0           4.9          1.8   virginica\n",
            "128           5.0          2.8           5.6          2.1   virginica\n",
            "129           5.0          3.0           5.8          1.6   virginica\n",
            "130           5.0          2.8           6.1          1.9   virginica\n",
            "131           5.0          3.8           6.4          2.0   virginica\n",
            "132           5.0          2.8           5.6          2.2   virginica\n",
            "133           5.0          2.8           5.1          1.5   virginica\n",
            "134           5.0          2.6           5.6          1.4   virginica\n",
            "135           5.0          3.0           6.1          2.3   virginica\n",
            "136           5.0          3.4           5.6          2.4   virginica\n",
            "137           5.0          3.1           5.5          1.8   virginica\n",
            "138           5.0          3.0           4.8          1.8   virginica\n",
            "139           5.0          3.1           5.4          2.1   virginica\n",
            "140           5.0          3.1           5.6          2.4   virginica\n",
            "141           5.0          3.1           5.1          2.3   virginica\n",
            "142           5.0          2.7           5.1          1.9   virginica\n",
            "143           5.0          3.2           5.9          2.3   virginica\n",
            "144           5.0          3.3           5.7          2.5   virginica\n",
            "145           5.0          3.0           5.2          2.3   virginica\n",
            "146           5.0          2.5           5.0          1.9   virginica\n",
            "147           5.0          3.0           5.2          2.0   virginica\n",
            "148           5.0          3.4           5.4          2.3   virginica\n",
            "149           5.0          3.0           5.1          1.8   virginica\n"
          ],
          "name": "stdout"
        }
      ]
    },
    {
      "cell_type": "code",
      "metadata": {
        "colab": {
          "base_uri": "https://localhost:8080/"
        },
        "id": "EP_7VAzsm4nl",
        "outputId": "f8c5a063-9f83-4d5e-9d39-3a90decc5950"
      },
      "source": [
        "print(df.loc[85, \"sepal_width\"])\r\n"
      ],
      "execution_count": null,
      "outputs": [
        {
          "output_type": "stream",
          "text": [
            "3.4\n"
          ],
          "name": "stdout"
        }
      ]
    },
    {
      "cell_type": "code",
      "metadata": {
        "id": "nhkeX76BnSzb"
      },
      "source": [
        ""
      ],
      "execution_count": null,
      "outputs": []
    }
  ]
}